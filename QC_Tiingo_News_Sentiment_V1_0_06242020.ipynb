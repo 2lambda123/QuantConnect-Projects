{
  "nbformat": 4,
  "nbformat_minor": 0,
  "metadata": {
    "colab": {
      "name": "QC_Tiingo_News_Sentiment_V1.0_06242020.ipynb",
      "provenance": [],
      "authorship_tag": "ABX9TyO1R917Ng5cQEwuzO1ThxZ4",
      "include_colab_link": true
    },
    "kernelspec": {
      "name": "python3",
      "display_name": "Python 3"
    }
  },
  "cells": [
    {
      "cell_type": "markdown",
      "metadata": {
        "id": "view-in-github",
        "colab_type": "text"
      },
      "source": [
        "<a href=\"https://colab.research.google.com/github/Zanderl1987/QuantConnect-Projects/blob/master/QC_Tiingo_News_Sentiment_V1_0_06242020.ipynb\" target=\"_parent\"><img src=\"https://colab.research.google.com/assets/colab-badge.svg\" alt=\"Open In Colab\"/></a>"
      ]
    },
    {
      "cell_type": "markdown",
      "metadata": {
        "id": "lr8fstRh88Jb",
        "colab_type": "text"
      },
      "source": [
        "## Version 1\n",
        "Sentiment vocabulary is very basic"
      ]
    },
    {
      "cell_type": "code",
      "metadata": {
        "id": "EZRBqDIF9Dq9",
        "colab_type": "code",
        "colab": {}
      },
      "source": [
        "from QuantConnect.Data.Custom.Tiingo import *\n",
        "\n",
        "class TiingoNLPDemonstration(QCAlgorithm):\n",
        "\n",
        "    def Initialize(self):\n",
        "        self.wordSentiment = {\n",
        "            \"bad\": -0.5, \"good\": 0.5,\n",
        "            \"negative\": -0.5, \"great\": 0.5,\n",
        "            \"growth\": 0.5, \"fail\": -0.5, \n",
        "            \"failed\": -0.5, \"success\": 0.5, \"nailed\": 0.5,\n",
        "            \"beat\": 0.5, \"missed\": -0.5,\n",
        "        }\n",
        "        \n",
        "        self.SetStartDate(2015, 1, 1) \n",
        "        self.SetCash(100000)\n",
        "        \n",
        "        equity = self.AddEquity(\"GE\", Resolution.Hour).Symbol\n",
        "        self.equityCustom = self.AddData(TiingoNews, equity).Symbol\n",
        "        self.SetBenchmark(equity)\n",
        "        \n",
        "    def OnData(self, data):\n",
        "        if not data.ContainsKey(self.equityCustom):\n",
        "            return\n",
        "        \n",
        "        news = data[self.equityCustom]\n",
        "        \n",
        "        descriptionWords = news.Description.lower().split(\" \")\n",
        "        intersection = set(self.wordSentiment.keys()).intersection(descriptionWords)\n",
        "        sentimentSum = sum([self.wordSentiment[i] for i in intersection])\n",
        "        \n",
        "        self.SetHoldings(self.equityCustom.Underlying, sentimentSum)"
      ],
      "execution_count": null,
      "outputs": []
    },
    {
      "cell_type": "code",
      "metadata": {
        "id": "Rw_VcyU69Ihr",
        "colab_type": "code",
        "colab": {}
      },
      "source": [
        ""
      ],
      "execution_count": null,
      "outputs": []
    }
  ]
}