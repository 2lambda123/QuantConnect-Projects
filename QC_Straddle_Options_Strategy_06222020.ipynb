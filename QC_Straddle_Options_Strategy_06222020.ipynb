{
  "nbformat": 4,
  "nbformat_minor": 0,
  "metadata": {
    "colab": {
      "name": "QC_Straddle_Options_Strategy_06222020.ipynb",
      "provenance": [],
      "collapsed_sections": [],
      "authorship_tag": "ABX9TyMy1OqKP5MW+iEUuBhBmmd9",
      "include_colab_link": true
    },
    "kernelspec": {
      "name": "python3",
      "display_name": "Python 3"
    }
  },
  "cells": [
    {
      "cell_type": "markdown",
      "metadata": {
        "id": "view-in-github",
        "colab_type": "text"
      },
      "source": [
        "<a href=\"https://colab.research.google.com/github/Zanderl1987/QuantConnect-Projects/blob/master/QC_Straddle_Options_Strategy_06222020.ipynb\" target=\"_parent\"><img src=\"https://colab.research.google.com/assets/colab-badge.svg\" alt=\"Open In Colab\"/></a>"
      ]
    },
    {
      "cell_type": "code",
      "metadata": {
        "id": "6Asj_BbquDgg",
        "colab_type": "code",
        "colab": {}
      },
      "source": [
        ""
      ],
      "execution_count": null,
      "outputs": []
    },
    {
      "cell_type": "markdown",
      "metadata": {
        "id": "JF-qmAhDuEuO",
        "colab_type": "text"
      },
      "source": [
        "## Version 1.0"
      ]
    },
    {
      "cell_type": "code",
      "metadata": {
        "id": "PbJMWVZbuHlu",
        "colab_type": "code",
        "colab": {}
      },
      "source": [
        "from Execution.ImmediateExecutionModel import ImmediateExecutionModel\n",
        "#from OptionsUniverseSelectionModel import OptionsUniverseSelectionModel\n",
        "from datetime import timedelta\n",
        "import pandas as pd\n",
        "import numpy as np\n",
        "\n",
        "\n",
        "class BullCallSpreadAlgorithm(QCAlgorithm):\n",
        "\n",
        "    def Initialize(self):\n",
        "        self.SetStartDate(2013, 1, 1)\n",
        "        self.SetEndDate(2020, 6, 18)\n",
        "        self.SetCash(200000)\n",
        "        equity = self.AddEquity(\"TSLA\", Resolution.Minute)\n",
        "        option = self.AddOption(\"TSLA\", Resolution.Minute)\n",
        "        self.symbol = option.Symbol\n",
        "        self.SetExecution(ImmediateExecutionModel())\n",
        "        \n",
        "        option.SetFilter(-1,1,timedelta(30),timedelta(30))\n",
        "        # use the underlying equity symbol as the benchmark\n",
        "        self.SetBenchmark(equity.Symbol)\n",
        "\n",
        "        self.SetRiskManagement(MaximumDrawdownPercentPortfolio(0.25))\n",
        "\n",
        "\n",
        "    def OnData(self,slice):\n",
        "        \n",
        "        optionchain = slice.OptionChains\n",
        "        for i in slice.OptionChains:\n",
        "            if i.Key != self.symbol: continue\n",
        "            chains = i.Value\n",
        "            contract_list = [x for x in chains]\n",
        "        # if there is no contracts in this optionchain, pass the instance\n",
        "        if (slice.OptionChains.Count == 0) or (len(contract_list) == 0): \n",
        "            return   \n",
        "         # if there is no securities in portfolio, trade the options \n",
        "        if not self.Portfolio.Invested: \n",
        "            self.TradeOptions(optionchain) \n",
        " \n",
        "    def TradeOptions(self,optionchain):\n",
        "    \n",
        "        for i in optionchain:\n",
        "            if i.Key != self.symbol: continue\n",
        "            chain = i.Value\n",
        "            # sorted the optionchain by expiration date and choose the furthest date\n",
        "            expiry = sorted(chain,key = lambda x: x.Expiry, reverse=True)[0].Expiry\n",
        "            # filter the call options from the contracts expires on that date\n",
        "            # 0 for calls, 1 for puts\n",
        "            call = [i for i in chain if i.Expiry == expiry and i.Right == 1]\n",
        "            put = [i for i in chain if i.Expiry == expiry and i.Right == 0]\n",
        "            # sorted the contracts according to their strike prices \n",
        "            call_contracts = sorted(call,key = lambda x: x.Strike)\n",
        "            put_contracts = sorted(call,key = lambda x: x.Strike)\n",
        "            if len(call_contracts) == 0: continue\n",
        "            if len(put_contracts) == 0: continue\n",
        "            # call option contract with lower strike\n",
        "            self.call_low = call_contracts[0]\n",
        "            self.put_low = put_contracts[0]\n",
        "            # call option contract with higher strike\n",
        "            self.call_high = call_contracts[-1]\n",
        "            self.put_high = call_contracts[-1]\n",
        "            \n",
        "            self.Sell(self.call_high.Symbol, 1)\n",
        "            self.Sell(self.put_low.Symbol ,1)\n",
        "    \n",
        "    def OnOrderEvent(self, orderEvent):\n",
        "        self.Log(str(orderEvent))"
      ],
      "execution_count": null,
      "outputs": []
    }
  ]
}