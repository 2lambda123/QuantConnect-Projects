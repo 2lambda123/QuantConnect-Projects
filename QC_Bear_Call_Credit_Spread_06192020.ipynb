{
  "nbformat": 4,
  "nbformat_minor": 0,
  "metadata": {
    "colab": {
      "name": "QC_Bear_Call_Credit_Spread_06192020.ipynb",
      "provenance": [],
      "collapsed_sections": [],
      "authorship_tag": "ABX9TyMKJeoklvhHVjhgFQNw8bUB",
      "include_colab_link": true
    },
    "kernelspec": {
      "name": "python3",
      "display_name": "Python 3"
    }
  },
  "cells": [
    {
      "cell_type": "markdown",
      "metadata": {
        "id": "view-in-github",
        "colab_type": "text"
      },
      "source": [
        "<a href=\"https://colab.research.google.com/github/Zanderl1987/QuantConnect-Projects/blob/master/QC_Bear_Call_Credit_Spread_06192020.ipynb\" target=\"_parent\"><img src=\"https://colab.research.google.com/assets/colab-badge.svg\" alt=\"Open In Colab\"/></a>"
      ]
    },
    {
      "cell_type": "markdown",
      "metadata": {
        "id": "GnfRt_rqpG5O",
        "colab_type": "text"
      },
      "source": [
        "## Version 1.0"
      ]
    },
    {
      "cell_type": "code",
      "metadata": {
        "id": "nH7mWL18LmvI",
        "colab_type": "code",
        "colab": {}
      },
      "source": [
        "from datetime import timedelta\n",
        "\n",
        "class BullCallSpreadAlgorithm(QCAlgorithm):\n",
        "\n",
        "    def Initialize(self):\n",
        "        self.SetStartDate(2019, 1, 1)\n",
        "        self.SetEndDate(2020, 6, 18)\n",
        "        self.SetCash(500000)\n",
        "        equity = self.AddEquity(\"SPY\", Resolution.Minute)\n",
        "        option = self.AddOption(\"SPY\", Resolution.Minute)\n",
        "        self.symbol = option.Symbol\n",
        "    \n",
        "        # set our strike/expiry filter for this option chain\n",
        "        #option.SetFilter(-7, 7, timedelta(30), timedelta(60))\n",
        "        option.SetFilter(-50, 50, timedelta(30), timedelta(60))\n",
        "        # use the underlying equity symbol as the benchmark\n",
        "        self.SetBenchmark(equity.Symbol)\n",
        "        \n",
        "    def OnData(self,slice):\n",
        "        \n",
        "        optionchain = slice.OptionChains\n",
        "        for i in slice.OptionChains:\n",
        "            if i.Key != self.symbol: continue\n",
        "            chains = i.Value\n",
        "            contract_list = [x for x in chains]\n",
        "        # if there is no contracts in this optionchain, pass the instance\n",
        "        if (slice.OptionChains.Count == 0) or (len(contract_list) == 0): \n",
        "            return   \n",
        "         # if there is no securities in portfolio, trade the options \n",
        "        if not self.Portfolio.Invested: \n",
        "            self.TradeOptions(optionchain) \n",
        " \n",
        "    def TradeOptions(self,optionchain):\n",
        "    \n",
        "        for i in optionchain:\n",
        "            if i.Key != self.symbol: continue\n",
        "            chain = i.Value\n",
        "            # sorted the optionchain by expiration date and choose the furthest date\n",
        "            expiry = sorted(chain,key = lambda x: x.Expiry, reverse=True)[0].Expiry\n",
        "            # filter the call options from the contracts expires on that date\n",
        "            call = [i for i in chain if i.Expiry == expiry and i.Right == 0]\n",
        "            # sorted the contracts according to their strike prices \n",
        "            call_contracts = sorted(call,key = lambda x: x.Strike)    \n",
        "            if len(call_contracts) == 0: continue\n",
        "            # call option contract with lower strike\n",
        "            self.call_low = call_contracts[0]\n",
        "            # call option contract with higher strike\n",
        "            self.call_high = call_contracts[-1]\n",
        "            self.Sell(self.call_low.Symbol, 1)\n",
        "            self.Buy(self.call_high.Symbol ,1)\n",
        "    \n",
        "    def OnOrderEvent(self, orderEvent):\n",
        "        self.Log(str(orderEvent))"
      ],
      "execution_count": null,
      "outputs": []
    },
    {
      "cell_type": "markdown",
      "metadata": {
        "id": "FjMSXx2BpD1r",
        "colab_type": "text"
      },
      "source": [
        "## Version 1.01"
      ]
    },
    {
      "cell_type": "code",
      "metadata": {
        "id": "8ubOn2YBpFeH",
        "colab_type": "code",
        "colab": {}
      },
      "source": [
        "from datetime import timedelta\n",
        "\n",
        "class BullCallSpreadAlgorithm(QCAlgorithm):\n",
        "\n",
        "    def Initialize(self):\n",
        "        self.SetStartDate(2019, 1, 1)\n",
        "        self.SetEndDate(2020, 6, 18)\n",
        "        self.SetCash(500000)\n",
        "        equity = self.AddEquity(\"SPY\", Resolution.Minute)\n",
        "        option = self.AddOption(\"SPY\", Resolution.Minute)\n",
        "        self.symbol = option.Symbol\n",
        "    \n",
        "        # set our strike/expiry filter for this option chain\n",
        "        #option.SetFilter(-7, 7, timedelta(30), timedelta(60))\n",
        "        option.SetFilter(30, 40, timedelta(30), timedelta(60))\n",
        "        # use the underlying equity symbol as the benchmark\n",
        "        self.SetBenchmark(equity.Symbol)\n",
        "        \n",
        "    def OnData(self,slice):\n",
        "        \n",
        "        optionchain = slice.OptionChains\n",
        "        for i in slice.OptionChains:\n",
        "            if i.Key != self.symbol: continue\n",
        "            chains = i.Value\n",
        "            contract_list = [x for x in chains]\n",
        "        # if there is no contracts in this optionchain, pass the instance\n",
        "        if (slice.OptionChains.Count == 0) or (len(contract_list) == 0): \n",
        "            return   \n",
        "         # if there is no securities in portfolio, trade the options \n",
        "        if not self.Portfolio.Invested: \n",
        "            self.TradeOptions(optionchain) \n",
        " \n",
        "    def TradeOptions(self,optionchain):\n",
        "    \n",
        "        for i in optionchain:\n",
        "            if i.Key != self.symbol: continue\n",
        "            chain = i.Value\n",
        "            # sorted the optionchain by expiration date and choose the furthest date\n",
        "            expiry = sorted(chain,key = lambda x: x.Expiry, reverse=True)[0].Expiry\n",
        "            # filter the call options from the contracts expires on that date\n",
        "            call = [i for i in chain if i.Expiry == expiry and i.Right == 0]\n",
        "            # sorted the contracts according to their strike prices \n",
        "            call_contracts = sorted(call,key = lambda x: x.Strike)    \n",
        "            if len(call_contracts) == 0: continue\n",
        "            # call option contract with lower strike\n",
        "            self.call_low = call_contracts[0]\n",
        "            # call option contract with higher strike\n",
        "            self.call_high = call_contracts[-1]\n",
        "            self.Sell(self.call_low.Symbol, 1)\n",
        "            self.Buy(self.call_high.Symbol ,1)\n",
        "    \n",
        "    def OnOrderEvent(self, orderEvent):\n",
        "        self.Log(str(orderEvent))"
      ],
      "execution_count": null,
      "outputs": []
    },
    {
      "cell_type": "markdown",
      "metadata": {
        "id": "xEouS_kBEuz_",
        "colab_type": "text"
      },
      "source": [
        "## Version 1.02\n",
        "Bull put credit spread\n",
        "Put credit spreads are typically the less risky credit spread strategy to trade in comparison to call credit spreads. This is largely due to the fact that in general, the broad equity markets rise over time. Obviously there are many individual assets where this is not the case but as a whole the broad market indexes trade higher over time. This is why your chance of making money on investments increases significantly with the length of time that you hold the asset.  "
      ]
    },
    {
      "cell_type": "code",
      "metadata": {
        "id": "lOmqoxQXpVUy",
        "colab_type": "code",
        "colab": {}
      },
      "source": [
        "from datetime import timedelta\n",
        "import pandas as pd\n",
        "import numpy as np\n",
        "\n",
        "class BullCallSpreadAlgorithm(QCAlgorithm):\n",
        "    \n",
        "    #equity_symbol = \"SPY\"\n",
        "    #movement_threshold = 10.00\n",
        "\n",
        "    def Initialize(self):\n",
        "        self.SetStartDate(2019, 1, 1)\n",
        "        self.SetEndDate(2020, 6, 18)\n",
        "        self.SetCash(300000)\n",
        "        equity = self.AddEquity(\"SPY\", Resolution.Minute)\n",
        "        #equity_daily  = self.AddEquity(equity_symbol,Resolution.Daily)\n",
        "        option = self.AddOption(\"SPY\", Resolution.Minute)\n",
        "        self.symbol = option.Symbol\n",
        "        \n",
        "        #hist_prices = equity_daily.History(equity_symbol.Symbol)\n",
        "        #print(hist_prices)\n",
        "        #hist_prices['log_returns'] = np.log(hist_prices.Close)\n",
        "        \n",
        "    \n",
        "        # set our strike/expiry filter for this option chain\n",
        "        #option.SetFilter(-7, 7, timedelta(30), timedelta(60))\n",
        "        option.SetFilter(-40,-30,timedelta(30),timedelta(60))\n",
        "        # use the underlying equity symbol as the benchmark\n",
        "        self.SetBenchmark(equity.Symbol)\n",
        "        \n",
        "    def OnData(self,slice):\n",
        "        \n",
        "        optionchain = slice.OptionChains\n",
        "        for i in slice.OptionChains:\n",
        "            if i.Key != self.symbol: continue\n",
        "            chains = i.Value\n",
        "            contract_list = [x for x in chains]\n",
        "        # if there is no contracts in this optionchain, pass the instance\n",
        "        if (slice.OptionChains.Count == 0) or (len(contract_list) == 0): \n",
        "            return   \n",
        "         # if there is no securities in portfolio, trade the options \n",
        "        if not self.Portfolio.Invested: \n",
        "            self.TradeOptions(optionchain) \n",
        " \n",
        "    def TradeOptions(self,optionchain):\n",
        "    \n",
        "        for i in optionchain:\n",
        "            if i.Key != self.symbol: continue\n",
        "            chain = i.Value\n",
        "            # sorted the optionchain by expiration date and choose the furthest date\n",
        "            expiry = sorted(chain,key = lambda x: x.Expiry, reverse=True)[0].Expiry\n",
        "            # filter the call options from the contracts expires on that date\n",
        "            call = [i for i in chain if i.Expiry == expiry and i.Right == 1]\n",
        "            # sorted the contracts according to their strike prices \n",
        "            call_contracts = sorted(call,key = lambda x: x.Strike)    \n",
        "            if len(call_contracts) == 0: continue\n",
        "            # call option contract with lower strike\n",
        "            self.call_low = call_contracts[0]\n",
        "            # call option contract with higher strike\n",
        "            self.call_high = call_contracts[-1]\n",
        "            self.Buy(self.call_low.Symbol, 1)\n",
        "            self.Sell(self.call_high.Symbol ,1)\n",
        "    \n",
        "    def OnOrderEvent(self, orderEvent):\n",
        "        self.Log(str(orderEvent))"
      ],
      "execution_count": null,
      "outputs": []
    }
  ]
}