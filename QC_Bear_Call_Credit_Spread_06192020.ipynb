{
  "nbformat": 4,
  "nbformat_minor": 0,
  "metadata": {
    "colab": {
      "name": "QC_Bear_Call_Credit_Spread_06192020.ipynb",
      "provenance": [],
      "collapsed_sections": [],
      "authorship_tag": "ABX9TyM9VeOj575h+W3Rapc2Fbtr",
      "include_colab_link": true
    },
    "kernelspec": {
      "name": "python3",
      "display_name": "Python 3"
    }
  },
  "cells": [
    {
      "cell_type": "markdown",
      "metadata": {
        "id": "view-in-github",
        "colab_type": "text"
      },
      "source": [
        "<a href=\"https://colab.research.google.com/github/Zanderl1987/QuantConnect-Projects/blob/master/QC_Bear_Call_Credit_Spread_06192020.ipynb\" target=\"_parent\"><img src=\"https://colab.research.google.com/assets/colab-badge.svg\" alt=\"Open In Colab\"/></a>"
      ]
    },
    {
      "cell_type": "markdown",
      "metadata": {
        "id": "GnfRt_rqpG5O",
        "colab_type": "text"
      },
      "source": [
        "## Version 1.0"
      ]
    },
    {
      "cell_type": "code",
      "metadata": {
        "id": "nH7mWL18LmvI",
        "colab_type": "code",
        "colab": {}
      },
      "source": [
        "from datetime import timedelta\n",
        "\n",
        "class BullCallSpreadAlgorithm(QCAlgorithm):\n",
        "\n",
        "    def Initialize(self):\n",
        "        self.SetStartDate(2019, 1, 1)\n",
        "        self.SetEndDate(2020, 6, 18)\n",
        "        self.SetCash(500000)\n",
        "        equity = self.AddEquity(\"SPY\", Resolution.Minute)\n",
        "        option = self.AddOption(\"SPY\", Resolution.Minute)\n",
        "        self.symbol = option.Symbol\n",
        "    \n",
        "        # set our strike/expiry filter for this option chain\n",
        "        #option.SetFilter(-7, 7, timedelta(30), timedelta(60))\n",
        "        option.SetFilter(-50, 50, timedelta(30), timedelta(60))\n",
        "        # use the underlying equity symbol as the benchmark\n",
        "        self.SetBenchmark(equity.Symbol)\n",
        "        \n",
        "    def OnData(self,slice):\n",
        "        \n",
        "        optionchain = slice.OptionChains\n",
        "        for i in slice.OptionChains:\n",
        "            if i.Key != self.symbol: continue\n",
        "            chains = i.Value\n",
        "            contract_list = [x for x in chains]\n",
        "        # if there is no contracts in this optionchain, pass the instance\n",
        "        if (slice.OptionChains.Count == 0) or (len(contract_list) == 0): \n",
        "            return   \n",
        "         # if there is no securities in portfolio, trade the options \n",
        "        if not self.Portfolio.Invested: \n",
        "            self.TradeOptions(optionchain) \n",
        " \n",
        "    def TradeOptions(self,optionchain):\n",
        "    \n",
        "        for i in optionchain:\n",
        "            if i.Key != self.symbol: continue\n",
        "            chain = i.Value\n",
        "            # sorted the optionchain by expiration date and choose the furthest date\n",
        "            expiry = sorted(chain,key = lambda x: x.Expiry, reverse=True)[0].Expiry\n",
        "            # filter the call options from the contracts expires on that date\n",
        "            call = [i for i in chain if i.Expiry == expiry and i.Right == 0]\n",
        "            # sorted the contracts according to their strike prices \n",
        "            call_contracts = sorted(call,key = lambda x: x.Strike)    \n",
        "            if len(call_contracts) == 0: continue\n",
        "            # call option contract with lower strike\n",
        "            self.call_low = call_contracts[0]\n",
        "            # call option contract with higher strike\n",
        "            self.call_high = call_contracts[-1]\n",
        "            self.Sell(self.call_low.Symbol, 1)\n",
        "            self.Buy(self.call_high.Symbol ,1)\n",
        "    \n",
        "    def OnOrderEvent(self, orderEvent):\n",
        "        self.Log(str(orderEvent))"
      ],
      "execution_count": null,
      "outputs": []
    },
    {
      "cell_type": "markdown",
      "metadata": {
        "id": "FjMSXx2BpD1r",
        "colab_type": "text"
      },
      "source": [
        "## Version 1.01"
      ]
    },
    {
      "cell_type": "code",
      "metadata": {
        "id": "8ubOn2YBpFeH",
        "colab_type": "code",
        "colab": {}
      },
      "source": [
        "from datetime import timedelta\n",
        "\n",
        "class BullCallSpreadAlgorithm(QCAlgorithm):\n",
        "\n",
        "    def Initialize(self):\n",
        "        self.SetStartDate(2019, 1, 1)\n",
        "        self.SetEndDate(2020, 6, 18)\n",
        "        self.SetCash(500000)\n",
        "        equity = self.AddEquity(\"SPY\", Resolution.Minute)\n",
        "        option = self.AddOption(\"SPY\", Resolution.Minute)\n",
        "        self.symbol = option.Symbol\n",
        "    \n",
        "        # set our strike/expiry filter for this option chain\n",
        "        #option.SetFilter(-7, 7, timedelta(30), timedelta(60))\n",
        "        option.SetFilter(30, 40, timedelta(30), timedelta(60))\n",
        "        # use the underlying equity symbol as the benchmark\n",
        "        self.SetBenchmark(equity.Symbol)\n",
        "        \n",
        "    def OnData(self,slice):\n",
        "        \n",
        "        optionchain = slice.OptionChains\n",
        "        for i in slice.OptionChains:\n",
        "            if i.Key != self.symbol: continue\n",
        "            chains = i.Value\n",
        "            contract_list = [x for x in chains]\n",
        "        # if there is no contracts in this optionchain, pass the instance\n",
        "        if (slice.OptionChains.Count == 0) or (len(contract_list) == 0): \n",
        "            return   \n",
        "         # if there is no securities in portfolio, trade the options \n",
        "        if not self.Portfolio.Invested: \n",
        "            self.TradeOptions(optionchain) \n",
        " \n",
        "    def TradeOptions(self,optionchain):\n",
        "    \n",
        "        for i in optionchain:\n",
        "            if i.Key != self.symbol: continue\n",
        "            chain = i.Value\n",
        "            # sorted the optionchain by expiration date and choose the furthest date\n",
        "            expiry = sorted(chain,key = lambda x: x.Expiry, reverse=True)[0].Expiry\n",
        "            # filter the call options from the contracts expires on that date\n",
        "            call = [i for i in chain if i.Expiry == expiry and i.Right == 0]\n",
        "            # sorted the contracts according to their strike prices \n",
        "            call_contracts = sorted(call,key = lambda x: x.Strike)    \n",
        "            if len(call_contracts) == 0: continue\n",
        "            # call option contract with lower strike\n",
        "            self.call_low = call_contracts[0]\n",
        "            # call option contract with higher strike\n",
        "            self.call_high = call_contracts[-1]\n",
        "            self.Sell(self.call_low.Symbol, 1)\n",
        "            self.Buy(self.call_high.Symbol ,1)\n",
        "    \n",
        "    def OnOrderEvent(self, orderEvent):\n",
        "        self.Log(str(orderEvent))"
      ],
      "execution_count": null,
      "outputs": []
    },
    {
      "cell_type": "code",
      "metadata": {
        "id": "lOmqoxQXpVUy",
        "colab_type": "code",
        "colab": {}
      },
      "source": [
        ""
      ],
      "execution_count": null,
      "outputs": []
    }
  ]
}